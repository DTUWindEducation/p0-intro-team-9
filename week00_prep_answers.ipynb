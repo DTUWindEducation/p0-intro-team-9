{
 "cells": [
  {
   "cell_type": "code",
   "execution_count": 1,
   "metadata": {},
   "outputs": [
    {
     "ename": "SyntaxError",
     "evalue": "invalid syntax (2131652853.py, line 1)",
     "output_type": "error",
     "traceback": [
      "\u001b[1;36m  Cell \u001b[1;32mIn[1], line 1\u001b[1;36m\u001b[0m\n\u001b[1;33m    input numpy as np\u001b[0m\n\u001b[1;37m          ^\u001b[0m\n\u001b[1;31mSyntaxError\u001b[0m\u001b[1;31m:\u001b[0m invalid syntax\n"
     ]
    }
   ],
   "source": [
    "input numpy as np"
   ]
  },
  {
   "cell_type": "code",
   "execution_count": 11,
   "metadata": {},
   "outputs": [
    {
     "name": "stdout",
     "output_type": "stream",
     "text": [
      "Hello, Joe!\n"
     ]
    }
   ],
   "source": [
    "def greet(name):\n",
    "     print(f\"Hello, {name}!\")\n",
    "\n",
    "\n",
    "greet(\"Joe\")\n"
   ]
  },
  {
   "cell_type": "code",
   "execution_count": 16,
   "metadata": {},
   "outputs": [
    {
     "name": "stdout",
     "output_type": "stream",
     "text": [
      "Just right!\n"
     ]
    }
   ],
   "source": [
    "def goldilocks(number):\n",
    "    if number < 140:\n",
    "        print(\"Too small!\")\n",
    "    elif number >150:\n",
    "        print(\"Too big!\")\n",
    "    else:\n",
    "        print(\"Just right!\")\n",
    "\n",
    "\n",
    "goldilocks(140)\n",
    "      "
   ]
  },
  {
   "cell_type": "code",
   "execution_count": 22,
   "metadata": {},
   "outputs": [
    {
     "name": "stdout",
     "output_type": "stream",
     "text": [
      "[4, 4, 9]\n"
     ]
    }
   ],
   "source": [
    "def square_list(numbers):\n",
    "    squared_numbers = []  # Create an empty list to store the squared values\n",
    "    for num in numbers:  # Loop through each number in the input list\n",
    "        squared_numbers.append(num ** 2)  # Square the number and add it to the new list\n",
    "    return squared_numbers\n",
    "    \n",
    "\n",
    "    \n",
    "print(square_list ([2, 2, 3]))\n",
    "\n",
    "        \n",
    "    "
   ]
  },
  {
   "cell_type": "code",
   "execution_count": null,
   "metadata": {},
   "outputs": [],
   "source": [
    "def fibonacci_stop(max_value):\n",
    "    fib_sequence = [1, 1]  # Start with the first two Fibonacci numbers\n",
    "    while True:\n",
    "        next_fib = fib_sequence[-1] + fib_sequence[-2]  # Sum the last two numbers\n",
    "        if next_fib > max_value:\n",
    "            break  # Stop if the next Fibonacci number exceeds the max_value\n",
    "        fib_sequence.append(next_fib)  # Add the new Fibonacci number to the list\n",
    "    return fib_sequence"
   ]
  },
  {
   "cell_type": "code",
   "execution_count": null,
   "metadata": {},
   "outputs": [],
   "source": [
    "def clean_pitch(pitch_angles, status_signal):\n",
    "    cleaned_angles = []  # List to store cleaned pitch angles\n",
    "    for pitch, status in zip(pitch_angles, status_signal):\n",
    "        if not (0 <= pitch <= 90) and status > 0:  # If pitch is out of range and malfunctioning\n",
    "            cleaned_angles.append(-999)  # Set to -999 for bad values\n",
    "        else:\n",
    "            cleaned_angles.append(pitch)  # Otherwise, keep the original value\n",
    "    return cleaned_angles\n",
    "\n",
    "# Example usage:\n",
    "x = [-1, 2, 6, 95]  # Raw pitch angles\n",
    "status = [1, 0, 0, 0]  # Status signal\n",
    "print(clean_pitch(x, status))  # Output: [-999, 2, 6, 95]"
   ]
  }
 ],
 "metadata": {
  "kernelspec": {
   "display_name": "base",
   "language": "python",
   "name": "python3"
  },
  "language_info": {
   "codemirror_mode": {
    "name": "ipython",
    "version": 3
   },
   "file_extension": ".py",
   "mimetype": "text/x-python",
   "name": "python",
   "nbconvert_exporter": "python",
   "pygments_lexer": "ipython3",
   "version": "3.11.9"
  }
 },
 "nbformat": 4,
 "nbformat_minor": 2
}
